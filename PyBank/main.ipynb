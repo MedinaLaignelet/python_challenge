{
 "cells": [
  {
   "cell_type": "code",
   "execution_count": 1,
   "id": "3f750647-8796-4241-a7f1-f59b04150d57",
   "metadata": {
    "tags": []
   },
   "outputs": [],
   "source": [
    "#import the pathlib and csv library\n",
    "from pathlib import Path\n",
    "import csv"
   ]
  },
  {
   "cell_type": "code",
   "execution_count": 2,
   "id": "60987f00-3559-4b0e-b457-776cf4a0bdb1",
   "metadata": {
    "tags": []
   },
   "outputs": [],
   "source": [
    "# Set File path\n",
    "csvpath = Path('budget_data.csv')"
   ]
  },
  {
   "cell_type": "code",
   "execution_count": 3,
   "id": "2f0b329b-a5ce-4928-af54-d713898d8954",
   "metadata": {
    "tags": []
   },
   "outputs": [],
   "source": [
    "#Initialize number variable\n",
    "#initialize Variable to hold Profit/Loss and Months\n",
    "line_num = 0\n",
    "Profitloss = []\n",
    "Months = []\n",
    "change= []"
   ]
  },
  {
   "cell_type": "code",
   "execution_count": 4,
   "id": "890902c5-b659-4d80-be8c-960794239f36",
   "metadata": {
    "tags": []
   },
   "outputs": [
    {
     "name": "stdout",
     "output_type": "stream",
     "text": [
      "<class '_io.TextIOWrapper'>\n",
      "['Date', 'Profit/Losses']<---HEADER\n",
      "['Jan-2010', '867884']\n",
      "['Feb-2010', '984655']\n",
      "['Mar-2010', '322013']\n",
      "['Apr-2010', '-69417']\n",
      "['May-2010', '310503']\n",
      "['Jun-2010', '522857']\n",
      "['Jul-2010', '1033096']\n",
      "['Aug-2010', '604885']\n",
      "['Sep-2010', '-216386']\n",
      "['Oct-2010', '477532']\n",
      "['Nov-2010', '893810']\n",
      "['Dec-2010', '-80353']\n",
      "['Jan-2011', '779806']\n",
      "['Feb-2011', '-335203']\n",
      "['Mar-2011', '697845']\n",
      "['Apr-2011', '793163']\n",
      "['May-2011', '485070']\n",
      "['Jun-2011', '584122']\n",
      "['Jul-2011', '62729']\n",
      "['Aug-2011', '668179']\n",
      "['Sep-2011', '899906']\n",
      "['Oct-2011', '834719']\n",
      "['Nov-2011', '132003']\n",
      "['Dec-2011', '309978']\n",
      "['Jan-2012', '-755566']\n",
      "['Feb-2012', '1170593']\n",
      "['Mar-2012', '252788']\n",
      "['Apr-2012', '1151518']\n",
      "['May-2012', '817256']\n",
      "['Jun-2012', '570757']\n",
      "['Jul-2012', '506702']\n",
      "['Aug-2012', '-1022534']\n",
      "['Sep-2012', '475062']\n",
      "['Oct-2012', '779976']\n",
      "['Nov-2012', '144175']\n",
      "['Dec-2012', '542494']\n",
      "['Jan-2013', '359333']\n",
      "['Feb-2013', '321469']\n",
      "['Mar-2013', '67780']\n",
      "['Apr-2013', '471435']\n",
      "['May-2013', '565603']\n",
      "['Jun-2013', '872480']\n",
      "['Jul-2013', '789480']\n",
      "['Aug-2013', '999942']\n",
      "['Sep-2013', '-1196225']\n",
      "['Oct-2013', '268997']\n",
      "['Nov-2013', '-687986']\n",
      "['Dec-2013', '1150461']\n",
      "['Jan-2014', '682458']\n",
      "['Feb-2014', '617856']\n",
      "['Mar-2014', '824098']\n",
      "['Apr-2014', '581943']\n",
      "['May-2014', '132864']\n",
      "['Jun-2014', '448062']\n",
      "['Jul-2014', '689161']\n",
      "['Aug-2014', '800701']\n",
      "['Sep-2014', '1166643']\n",
      "['Oct-2014', '947333']\n",
      "['Nov-2014', '578668']\n",
      "['Dec-2014', '988505']\n",
      "['Jan-2015', '1139715']\n",
      "['Feb-2015', '1029471']\n",
      "['Mar-2015', '687533']\n",
      "['Apr-2015', '-524626']\n",
      "['May-2015', '158620']\n",
      "['Jun-2015', '87795']\n",
      "['Jul-2015', '423389']\n",
      "['Aug-2015', '840723']\n",
      "['Sep-2015', '568529']\n",
      "['Oct-2015', '332067']\n",
      "['Nov-2015', '989499']\n",
      "['Dec-2015', '778237']\n",
      "['Jan-2016', '650000']\n",
      "['Feb-2016', '-1100387']\n",
      "['Mar-2016', '-174946']\n",
      "['Apr-2016', '757143']\n",
      "['May-2016', '445709']\n",
      "['Jun-2016', '712961']\n",
      "['Jul-2016', '-1163797']\n",
      "['Aug-2016', '569899']\n",
      "['Sep-2016', '768450']\n",
      "['Oct-2016', '102685']\n",
      "['Nov-2016', '795914']\n",
      "['Dec-2016', '60988']\n",
      "['Jan-2017', '138230']\n",
      "['Feb-2017', '671099']\n"
     ]
    }
   ],
   "source": [
    "# Open the input path as a file object\n",
    "# Pass in the csv file to the csv.reader() function\n",
    "    # (with ',' as the delmiter/separator) and return the csvreader object\n",
    "    \n",
    "with open(csvpath,\"r\") as csvfile:\n",
    "    \n",
    "    print(type(csvfile))\n",
    "    csvreader = csv.reader(csvfile, delimiter=',')\n",
    "    header = next (csvreader)\n",
    "    line_num +=1\n",
    "    \n",
    "    print(f\"{header}<---HEADER\")\n",
    "    \n",
    "    #Create lists Months and profitloss for values on Rows in cvs file:\n",
    "    for row in csvreader:\n",
    "        print(row)\n",
    "        Date = row[0]\n",
    "        Months.append(Date)\n",
    "        Profitlosses = int (row[1])\n",
    "        Profitloss.append(Profitlosses)"
   ]
  },
  {
   "cell_type": "code",
   "execution_count": 5,
   "id": "67ed525b-8404-428f-a1b1-3d0dbf53b197",
   "metadata": {
    "tags": []
   },
   "outputs": [
    {
     "data": {
      "text/plain": [
       "['Jan-2010',\n",
       " 'Feb-2010',\n",
       " 'Mar-2010',\n",
       " 'Apr-2010',\n",
       " 'May-2010',\n",
       " 'Jun-2010',\n",
       " 'Jul-2010',\n",
       " 'Aug-2010',\n",
       " 'Sep-2010',\n",
       " 'Oct-2010',\n",
       " 'Nov-2010',\n",
       " 'Dec-2010',\n",
       " 'Jan-2011',\n",
       " 'Feb-2011',\n",
       " 'Mar-2011',\n",
       " 'Apr-2011',\n",
       " 'May-2011',\n",
       " 'Jun-2011',\n",
       " 'Jul-2011',\n",
       " 'Aug-2011',\n",
       " 'Sep-2011',\n",
       " 'Oct-2011',\n",
       " 'Nov-2011',\n",
       " 'Dec-2011',\n",
       " 'Jan-2012',\n",
       " 'Feb-2012',\n",
       " 'Mar-2012',\n",
       " 'Apr-2012',\n",
       " 'May-2012',\n",
       " 'Jun-2012',\n",
       " 'Jul-2012',\n",
       " 'Aug-2012',\n",
       " 'Sep-2012',\n",
       " 'Oct-2012',\n",
       " 'Nov-2012',\n",
       " 'Dec-2012',\n",
       " 'Jan-2013',\n",
       " 'Feb-2013',\n",
       " 'Mar-2013',\n",
       " 'Apr-2013',\n",
       " 'May-2013',\n",
       " 'Jun-2013',\n",
       " 'Jul-2013',\n",
       " 'Aug-2013',\n",
       " 'Sep-2013',\n",
       " 'Oct-2013',\n",
       " 'Nov-2013',\n",
       " 'Dec-2013',\n",
       " 'Jan-2014',\n",
       " 'Feb-2014',\n",
       " 'Mar-2014',\n",
       " 'Apr-2014',\n",
       " 'May-2014',\n",
       " 'Jun-2014',\n",
       " 'Jul-2014',\n",
       " 'Aug-2014',\n",
       " 'Sep-2014',\n",
       " 'Oct-2014',\n",
       " 'Nov-2014',\n",
       " 'Dec-2014',\n",
       " 'Jan-2015',\n",
       " 'Feb-2015',\n",
       " 'Mar-2015',\n",
       " 'Apr-2015',\n",
       " 'May-2015',\n",
       " 'Jun-2015',\n",
       " 'Jul-2015',\n",
       " 'Aug-2015',\n",
       " 'Sep-2015',\n",
       " 'Oct-2015',\n",
       " 'Nov-2015',\n",
       " 'Dec-2015',\n",
       " 'Jan-2016',\n",
       " 'Feb-2016',\n",
       " 'Mar-2016',\n",
       " 'Apr-2016',\n",
       " 'May-2016',\n",
       " 'Jun-2016',\n",
       " 'Jul-2016',\n",
       " 'Aug-2016',\n",
       " 'Sep-2016',\n",
       " 'Oct-2016',\n",
       " 'Nov-2016',\n",
       " 'Dec-2016',\n",
       " 'Jan-2017',\n",
       " 'Feb-2017']"
      ]
     },
     "execution_count": 5,
     "metadata": {},
     "output_type": "execute_result"
    }
   ],
   "source": [
    "Months"
   ]
  },
  {
   "cell_type": "code",
   "execution_count": 6,
   "id": "dc99bc55-d463-4d44-b653-efb3c4ab7cd1",
   "metadata": {
    "tags": []
   },
   "outputs": [
    {
     "data": {
      "text/plain": [
       "[867884,\n",
       " 984655,\n",
       " 322013,\n",
       " -69417,\n",
       " 310503,\n",
       " 522857,\n",
       " 1033096,\n",
       " 604885,\n",
       " -216386,\n",
       " 477532,\n",
       " 893810,\n",
       " -80353,\n",
       " 779806,\n",
       " -335203,\n",
       " 697845,\n",
       " 793163,\n",
       " 485070,\n",
       " 584122,\n",
       " 62729,\n",
       " 668179,\n",
       " 899906,\n",
       " 834719,\n",
       " 132003,\n",
       " 309978,\n",
       " -755566,\n",
       " 1170593,\n",
       " 252788,\n",
       " 1151518,\n",
       " 817256,\n",
       " 570757,\n",
       " 506702,\n",
       " -1022534,\n",
       " 475062,\n",
       " 779976,\n",
       " 144175,\n",
       " 542494,\n",
       " 359333,\n",
       " 321469,\n",
       " 67780,\n",
       " 471435,\n",
       " 565603,\n",
       " 872480,\n",
       " 789480,\n",
       " 999942,\n",
       " -1196225,\n",
       " 268997,\n",
       " -687986,\n",
       " 1150461,\n",
       " 682458,\n",
       " 617856,\n",
       " 824098,\n",
       " 581943,\n",
       " 132864,\n",
       " 448062,\n",
       " 689161,\n",
       " 800701,\n",
       " 1166643,\n",
       " 947333,\n",
       " 578668,\n",
       " 988505,\n",
       " 1139715,\n",
       " 1029471,\n",
       " 687533,\n",
       " -524626,\n",
       " 158620,\n",
       " 87795,\n",
       " 423389,\n",
       " 840723,\n",
       " 568529,\n",
       " 332067,\n",
       " 989499,\n",
       " 778237,\n",
       " 650000,\n",
       " -1100387,\n",
       " -174946,\n",
       " 757143,\n",
       " 445709,\n",
       " 712961,\n",
       " -1163797,\n",
       " 569899,\n",
       " 768450,\n",
       " 102685,\n",
       " 795914,\n",
       " 60988,\n",
       " 138230,\n",
       " 671099]"
      ]
     },
     "execution_count": 6,
     "metadata": {},
     "output_type": "execute_result"
    }
   ],
   "source": [
    "Profitloss"
   ]
  },
  {
   "cell_type": "code",
   "execution_count": 7,
   "id": "d29ac2ca-a08d-4f0b-bdef-9fa88bbb3fdb",
   "metadata": {
    "tags": []
   },
   "outputs": [
    {
     "data": {
      "text/plain": [
       "list"
      ]
     },
     "execution_count": 7,
     "metadata": {},
     "output_type": "execute_result"
    }
   ],
   "source": [
    "#Check Type of item for months list\n",
    "type (Months)"
   ]
  },
  {
   "cell_type": "code",
   "execution_count": 8,
   "id": "1487bb73-4f7f-4cf9-ad6d-2310843f640d",
   "metadata": {
    "tags": []
   },
   "outputs": [
    {
     "data": {
      "text/plain": [
       "int"
      ]
     },
     "execution_count": 8,
     "metadata": {},
     "output_type": "execute_result"
    }
   ],
   "source": [
    "#Check TProfitlossesype of item for months list\n",
    "type (Profitlosses)"
   ]
  },
  {
   "cell_type": "code",
   "execution_count": 9,
   "id": "55a66b70-ba43-49ff-9f08-9e60428d8b18",
   "metadata": {
    "tags": []
   },
   "outputs": [],
   "source": [
    "# Initialize the metric variables\n",
    "count = 0\n",
    "total = 0\n",
    "change= 0\n",
    "changesum= 0\n",
    "average = 0\n",
    "changeaverage= 0\n",
    "greatest_increase = 0\n",
    "greatest_month = 0\n",
    "greatest_decrease = 0"
   ]
  },
  {
   "cell_type": "code",
   "execution_count": 10,
   "id": "cedd854e-07f8-4dc6-aa7e-ed4df124cdc2",
   "metadata": {
    "tags": []
   },
   "outputs": [
    {
     "data": {
      "text/plain": [
       "86"
      ]
     },
     "execution_count": 10,
     "metadata": {},
     "output_type": "execute_result"
    }
   ],
   "source": [
    "len (Months)"
   ]
  },
  {
   "cell_type": "code",
   "execution_count": 11,
   "id": "2b870802-d59e-451b-999d-0c9070ff9b10",
   "metadata": {
    "tags": []
   },
   "outputs": [],
   "source": [
    "#To count the number of months on the CSV file:\n",
    "count = len (Months)\n"
   ]
  },
  {
   "cell_type": "code",
   "execution_count": 12,
   "id": "509e1d42-8468-4997-873c-836112559f1a",
   "metadata": {
    "tags": []
   },
   "outputs": [],
   "source": [
    "#To Calculate cummulative sum total :\n",
    "for Profitlosses in Profitloss:\n",
    "    #sum total and count variables\n",
    "    total += Profitlosses\n",
    "    count += 1\n",
    "    "
   ]
  },
  {
   "cell_type": "code",
   "execution_count": 13,
   "id": "8a26aa2d-dd60-413d-9883-2f0eea63c4bd",
   "metadata": {
    "tags": []
   },
   "outputs": [
    {
     "data": {
      "text/plain": [
       "[867884,\n",
       " 984655,\n",
       " 322013,\n",
       " -69417,\n",
       " 310503,\n",
       " 522857,\n",
       " 1033096,\n",
       " 604885,\n",
       " -216386,\n",
       " 477532,\n",
       " 893810,\n",
       " -80353,\n",
       " 779806,\n",
       " -335203,\n",
       " 697845,\n",
       " 793163,\n",
       " 485070,\n",
       " 584122,\n",
       " 62729,\n",
       " 668179,\n",
       " 899906,\n",
       " 834719,\n",
       " 132003,\n",
       " 309978,\n",
       " -755566,\n",
       " 1170593,\n",
       " 252788,\n",
       " 1151518,\n",
       " 817256,\n",
       " 570757,\n",
       " 506702,\n",
       " -1022534,\n",
       " 475062,\n",
       " 779976,\n",
       " 144175,\n",
       " 542494,\n",
       " 359333,\n",
       " 321469,\n",
       " 67780,\n",
       " 471435,\n",
       " 565603,\n",
       " 872480,\n",
       " 789480,\n",
       " 999942,\n",
       " -1196225,\n",
       " 268997,\n",
       " -687986,\n",
       " 1150461,\n",
       " 682458,\n",
       " 617856,\n",
       " 824098,\n",
       " 581943,\n",
       " 132864,\n",
       " 448062,\n",
       " 689161,\n",
       " 800701,\n",
       " 1166643,\n",
       " 947333,\n",
       " 578668,\n",
       " 988505,\n",
       " 1139715,\n",
       " 1029471,\n",
       " 687533,\n",
       " -524626,\n",
       " 158620,\n",
       " 87795,\n",
       " 423389,\n",
       " 840723,\n",
       " 568529,\n",
       " 332067,\n",
       " 989499,\n",
       " 778237,\n",
       " 650000,\n",
       " -1100387,\n",
       " -174946,\n",
       " 757143,\n",
       " 445709,\n",
       " 712961,\n",
       " -1163797,\n",
       " 569899,\n",
       " 768450,\n",
       " 102685,\n",
       " 795914,\n",
       " 60988,\n",
       " 138230,\n",
       " 671099]"
      ]
     },
     "execution_count": 13,
     "metadata": {},
     "output_type": "execute_result"
    }
   ],
   "source": [
    "Profitloss"
   ]
  },
  {
   "cell_type": "code",
   "execution_count": 14,
   "id": "98dcfc38-2c0d-437d-bbe4-1a50f80e3fde",
   "metadata": {},
   "outputs": [],
   "source": [
    "#Create list with revenue chnage per monht\n",
    "\n",
    "change = [Profitloss[i+1]-Profitloss[i] for i in range(len (Profitloss) -1)]\n"
   ]
  },
  {
   "cell_type": "code",
   "execution_count": 15,
   "id": "94cc3cbd-bdc4-4f47-9441-d10f8ccdfabb",
   "metadata": {
    "tags": []
   },
   "outputs": [
    {
     "data": {
      "text/plain": [
       "[116771,\n",
       " -662642,\n",
       " -391430,\n",
       " 379920,\n",
       " 212354,\n",
       " 510239,\n",
       " -428211,\n",
       " -821271,\n",
       " 693918,\n",
       " 416278,\n",
       " -974163,\n",
       " 860159,\n",
       " -1115009,\n",
       " 1033048,\n",
       " 95318,\n",
       " -308093,\n",
       " 99052,\n",
       " -521393,\n",
       " 605450,\n",
       " 231727,\n",
       " -65187,\n",
       " -702716,\n",
       " 177975,\n",
       " -1065544,\n",
       " 1926159,\n",
       " -917805,\n",
       " 898730,\n",
       " -334262,\n",
       " -246499,\n",
       " -64055,\n",
       " -1529236,\n",
       " 1497596,\n",
       " 304914,\n",
       " -635801,\n",
       " 398319,\n",
       " -183161,\n",
       " -37864,\n",
       " -253689,\n",
       " 403655,\n",
       " 94168,\n",
       " 306877,\n",
       " -83000,\n",
       " 210462,\n",
       " -2196167,\n",
       " 1465222,\n",
       " -956983,\n",
       " 1838447,\n",
       " -468003,\n",
       " -64602,\n",
       " 206242,\n",
       " -242155,\n",
       " -449079,\n",
       " 315198,\n",
       " 241099,\n",
       " 111540,\n",
       " 365942,\n",
       " -219310,\n",
       " -368665,\n",
       " 409837,\n",
       " 151210,\n",
       " -110244,\n",
       " -341938,\n",
       " -1212159,\n",
       " 683246,\n",
       " -70825,\n",
       " 335594,\n",
       " 417334,\n",
       " -272194,\n",
       " -236462,\n",
       " 657432,\n",
       " -211262,\n",
       " -128237,\n",
       " -1750387,\n",
       " 925441,\n",
       " 932089,\n",
       " -311434,\n",
       " 267252,\n",
       " -1876758,\n",
       " 1733696,\n",
       " 198551,\n",
       " -665765,\n",
       " 693229,\n",
       " -734926,\n",
       " 77242,\n",
       " 532869]"
      ]
     },
     "execution_count": 15,
     "metadata": {},
     "output_type": "execute_result"
    }
   ],
   "source": [
    "change\n"
   ]
  },
  {
   "cell_type": "code",
   "execution_count": 16,
   "id": "c72a952a-66a1-407c-81f2-1c922161644e",
   "metadata": {
    "tags": []
   },
   "outputs": [],
   "source": [
    "count= len (Months)\n"
   ]
  },
  {
   "cell_type": "code",
   "execution_count": 17,
   "id": "2e63e962-5f07-4464-8902-f4af4ed7a000",
   "metadata": {
    "tags": []
   },
   "outputs": [
    {
     "data": {
      "text/plain": [
       "86"
      ]
     },
     "execution_count": 17,
     "metadata": {},
     "output_type": "execute_result"
    }
   ],
   "source": [
    "count"
   ]
  },
  {
   "cell_type": "code",
   "execution_count": 18,
   "id": "1a06eda8-ae39-42a0-b9f4-4d422884f0e9",
   "metadata": {
    "tags": []
   },
   "outputs": [],
   "source": [
    "#sum total and count variables\n",
    "changesum= sum(change)\n"
   ]
  },
  {
   "cell_type": "code",
   "execution_count": 19,
   "id": "427a1256-f9c0-4b42-98cb-2acdf3fd518c",
   "metadata": {
    "tags": []
   },
   "outputs": [
    {
     "data": {
      "text/plain": [
       "-196785"
      ]
     },
     "execution_count": 19,
     "metadata": {},
     "output_type": "execute_result"
    }
   ],
   "source": [
    "changesum"
   ]
  },
  {
   "cell_type": "code",
   "execution_count": 20,
   "id": "5367126d-2be5-4a2c-ab4c-63f499a83729",
   "metadata": {
    "tags": []
   },
   "outputs": [],
   "source": [
    "# Calculate average of chnagesum \n",
    "changeaverage = (changesum / (count -1))\n",
    " "
   ]
  },
  {
   "cell_type": "code",
   "execution_count": 21,
   "id": "61268946-1314-4c5a-9668-20507d168e5c",
   "metadata": {
    "tags": []
   },
   "outputs": [
    {
     "data": {
      "text/plain": [
       "-2315.1176470588234"
      ]
     },
     "execution_count": 21,
     "metadata": {},
     "output_type": "execute_result"
    }
   ],
   "source": [
    "changeaverage\n"
   ]
  },
  {
   "cell_type": "code",
   "execution_count": 22,
   "id": "4678dfa0-8202-4010-a40e-bc4b19856b1f",
   "metadata": {},
   "outputs": [],
   "source": [
    "# rounding the above number   \n",
    "rounded_number = format(changeaverage, \".2f\")"
   ]
  },
  {
   "cell_type": "code",
   "execution_count": 23,
   "id": "7731dc8e-0c75-4f8d-9abb-29b93dcaf052",
   "metadata": {},
   "outputs": [
    {
     "data": {
      "text/plain": [
       "'-2315.12'"
      ]
     },
     "execution_count": 23,
     "metadata": {},
     "output_type": "execute_result"
    }
   ],
   "source": [
    "rounded_number"
   ]
  },
  {
   "cell_type": "code",
   "execution_count": 24,
   "id": "35a7759f-54ea-45a9-831c-32b5845f6e20",
   "metadata": {},
   "outputs": [],
   "source": [
    "# to find the Minimum (Greates Decrease) in the average change"
   ]
  },
  {
   "cell_type": "code",
   "execution_count": 25,
   "id": "4efec3be-3650-4e28-908f-b5fcdc83a493",
   "metadata": {
    "tags": []
   },
   "outputs": [],
   "source": [
    "greatest_decrease = min (change)"
   ]
  },
  {
   "cell_type": "code",
   "execution_count": 26,
   "id": "a18080b7-2486-453b-bdd4-119ca35d4bd2",
   "metadata": {
    "tags": []
   },
   "outputs": [
    {
     "data": {
      "text/plain": [
       "-2196167"
      ]
     },
     "execution_count": 26,
     "metadata": {},
     "output_type": "execute_result"
    }
   ],
   "source": [
    "greatest_decrease"
   ]
  },
  {
   "cell_type": "code",
   "execution_count": 27,
   "id": "b877dd51-0b3f-42ba-8837-5ffb1d89d9a2",
   "metadata": {},
   "outputs": [],
   "source": [
    "# to find the Maximum (Greatest Increase) in the average change\n",
    "greatest_increase = max (change)"
   ]
  },
  {
   "cell_type": "code",
   "execution_count": 28,
   "id": "ff5729be-7985-4d18-8788-26dd598f5d73",
   "metadata": {
    "tags": []
   },
   "outputs": [
    {
     "data": {
      "text/plain": [
       "1926159"
      ]
     },
     "execution_count": 28,
     "metadata": {},
     "output_type": "execute_result"
    }
   ],
   "source": [
    "greatest_increase"
   ]
  },
  {
   "cell_type": "code",
   "execution_count": 29,
   "id": "4e39749b-03b7-4523-8aaf-7767068a28d0",
   "metadata": {
    "tags": []
   },
   "outputs": [],
   "source": [
    "#Create Variable for Max and Min index location:\n",
    "index_min_loc: []\n",
    "index_max_loc: []"
   ]
  },
  {
   "cell_type": "code",
   "execution_count": 30,
   "id": "0f512806-999e-473b-a3fd-fbfd49bf0b25",
   "metadata": {
    "tags": []
   },
   "outputs": [],
   "source": [
    "#locate index for Min in Profit /Loss in change:\n",
    "index_min_loc = (change.index(greatest_decrease))\n",
    "\n"
   ]
  },
  {
   "cell_type": "code",
   "execution_count": 31,
   "id": "5ee6c8fa-a27c-46cf-86a9-86789decbed8",
   "metadata": {
    "tags": []
   },
   "outputs": [
    {
     "data": {
      "text/plain": [
       "43"
      ]
     },
     "execution_count": 31,
     "metadata": {},
     "output_type": "execute_result"
    }
   ],
   "source": [
    "index_min_loc"
   ]
  },
  {
   "cell_type": "code",
   "execution_count": 32,
   "id": "e1dae377-84dc-4b8e-b674-8b8058ff8960",
   "metadata": {
    "tags": []
   },
   "outputs": [],
   "source": [
    "#locate index for MaX in Profit /Loss change:\n",
    "index_max_loc = (change.index(greatest_increase))\n"
   ]
  },
  {
   "cell_type": "code",
   "execution_count": 33,
   "id": "501c872f-14a2-4881-a7d0-1cc4350bbd8b",
   "metadata": {
    "tags": []
   },
   "outputs": [
    {
     "data": {
      "text/plain": [
       "24"
      ]
     },
     "execution_count": 33,
     "metadata": {},
     "output_type": "execute_result"
    }
   ],
   "source": [
    "index_max_loc"
   ]
  },
  {
   "cell_type": "code",
   "execution_count": 34,
   "id": "0effb94e-1491-402f-ad6e-4adfc29e3cf6",
   "metadata": {
    "tags": []
   },
   "outputs": [],
   "source": [
    "#create variable for Min in Profit month position:\n",
    "indexmin=0\n",
    "indexmax =0\n"
   ]
  },
  {
   "cell_type": "code",
   "execution_count": 35,
   "id": "a644b5ed-a7d5-4473-b06c-2d007a1da3fc",
   "metadata": {
    "tags": []
   },
   "outputs": [],
   "source": [
    "indexmin = (index_min_loc + 1)"
   ]
  },
  {
   "cell_type": "code",
   "execution_count": 36,
   "id": "0cb1c96b-2237-48c0-9e42-cfc18473d468",
   "metadata": {
    "tags": []
   },
   "outputs": [
    {
     "data": {
      "text/plain": [
       "44"
      ]
     },
     "execution_count": 36,
     "metadata": {},
     "output_type": "execute_result"
    }
   ],
   "source": [
    "indexmin"
   ]
  },
  {
   "cell_type": "code",
   "execution_count": 37,
   "id": "5ff58108-4656-4298-87e5-b38cf3e61a3e",
   "metadata": {
    "tags": []
   },
   "outputs": [],
   "source": [
    "indexmax = (index_max_loc + 1)"
   ]
  },
  {
   "cell_type": "code",
   "execution_count": 38,
   "id": "e29f55a9-7966-4e29-a2d5-5ae449b13c82",
   "metadata": {
    "tags": []
   },
   "outputs": [
    {
     "data": {
      "text/plain": [
       "25"
      ]
     },
     "execution_count": 38,
     "metadata": {},
     "output_type": "execute_result"
    }
   ],
   "source": [
    "indexmax"
   ]
  },
  {
   "cell_type": "code",
   "execution_count": 39,
   "id": "607326f1-09c1-4ddb-ba4d-0e3297b80a60",
   "metadata": {},
   "outputs": [
    {
     "name": "stdout",
     "output_type": "stream",
     "text": [
      "Sep-2013\n"
     ]
    }
   ],
   "source": [
    "monthmin = print (Months[indexmin])"
   ]
  },
  {
   "cell_type": "code",
   "execution_count": 40,
   "id": "c29480b9-96ad-4b6f-9ab5-481148ac3a31",
   "metadata": {},
   "outputs": [
    {
     "name": "stdout",
     "output_type": "stream",
     "text": [
      "Feb-2012\n"
     ]
    }
   ],
   "source": [
    "monthmax = print (Months[indexmax])\n"
   ]
  },
  {
   "cell_type": "code",
   "execution_count": 41,
   "id": "b08cb7fb-934d-4ec8-a9ce-677f1c5bfe89",
   "metadata": {
    "tags": []
   },
   "outputs": [
    {
     "name": "stdout",
     "output_type": "stream",
     "text": [
      "---------Financial Analysis----------\n",
      "-------------------------------------\n",
      "Number of Months: 86\n",
      "Total Profits/Losses:$38382578\n",
      "Average: $-2315.12\n",
      "Worst Loss: $-2196167 Sep-2013\n",
      "Best Gain: $1926159 Feb-2012\n"
     ]
    }
   ],
   "source": [
    "# Print out the summary statistics\n",
    "print(\"---------Financial Analysis----------\")\n",
    "print(\"-------------------------------------\")\n",
    "print (f\"Number of Months: {count}\")\n",
    "print(f\"Total Profits/Losses:${total}\")\n",
    "print(f\"Average: ${rounded_number}\")\n",
    "print(f\"Worst Loss: ${greatest_decrease} {Months[indexmin]}\")\n",
    "print(f\"Best Gain: ${greatest_increase} {Months[indexmax]}\")"
   ]
  },
  {
   "cell_type": "code",
   "execution_count": 46,
   "id": "999b881d-ec36-41ab-94f9-6fce7b63bb46",
   "metadata": {
    "tags": []
   },
   "outputs": [],
   "source": [
    "#set Output header and results\n",
    "header = [\"---------------------------Financial Analysis--------------------------------\"]\n",
    "space = [\"------------------------------------------------------------------------------\"]\n",
    "metricA =  (f\"Number of Months: {count}\")\n",
    "metricB = (f\"Total Profits/Losses: {total}\")\n",
    "metricC = (f\"Average: {rounded_number}\")\n",
    "metricD = (f\"Worst Loss: ${greatest_decrease}{Months[indexmin]}\")\n",
    "metricE = (f\"Best Gain: ${greatest_increase}{Months[indexmax]}\")         "
   ]
  },
  {
   "cell_type": "code",
   "execution_count": 43,
   "id": "e2168072-d8e4-446e-b74a-e09014d3f0be",
   "metadata": {
    "tags": []
   },
   "outputs": [],
   "source": [
    "#Set up output in file\n",
    "output_path = Path ('output.csv')"
   ]
  },
  {
   "cell_type": "code",
   "execution_count": 44,
   "id": "2d08a389-9ff7-4a3a-8516-df70c1262182",
   "metadata": {
    "tags": []
   },
   "outputs": [],
   "source": [
    "with open(output_path, 'w') as csvfile:\n",
    "    csvwriter = csv.writer(csvfile, delimiter=',')\n",
    "    csvwriter.writerow (header)\n",
    "    csvwriter.writerow (space)\n",
    "    csvwriter.writerow(metricA)\n",
    "    csvwriter.writerow(metricB)\n",
    "    csvwriter.writerow(metricC)\n",
    "    csvwriter.writerow(metricD)\n",
    "    csvwriter.writerow(metricE)"
   ]
  },
  {
   "cell_type": "code",
   "execution_count": null,
   "id": "b449afa5-f48e-436a-a76c-9c2b060bff35",
   "metadata": {},
   "outputs": [],
   "source": []
  },
  {
   "cell_type": "code",
   "execution_count": null,
   "id": "a6047551-5a70-42ae-9dd8-ccc42e7b56d0",
   "metadata": {},
   "outputs": [],
   "source": []
  },
  {
   "cell_type": "code",
   "execution_count": null,
   "id": "2a42bcd2-e972-4f8d-8e25-ed298f6fd9ec",
   "metadata": {},
   "outputs": [],
   "source": []
  },
  {
   "cell_type": "code",
   "execution_count": null,
   "id": "30fc0822-27af-45bc-8743-760b631b7233",
   "metadata": {},
   "outputs": [],
   "source": []
  },
  {
   "cell_type": "code",
   "execution_count": null,
   "id": "bd18c552-4f8f-4b90-b4ab-9fb96d3a4f91",
   "metadata": {},
   "outputs": [],
   "source": []
  }
 ],
 "metadata": {
  "kernelspec": {
   "display_name": "Python 3 (ipykernel)",
   "language": "python",
   "name": "python3"
  },
  "language_info": {
   "codemirror_mode": {
    "name": "ipython",
    "version": 3
   },
   "file_extension": ".py",
   "mimetype": "text/x-python",
   "name": "python",
   "nbconvert_exporter": "python",
   "pygments_lexer": "ipython3",
   "version": "3.10.13"
  }
 },
 "nbformat": 4,
 "nbformat_minor": 5
}
